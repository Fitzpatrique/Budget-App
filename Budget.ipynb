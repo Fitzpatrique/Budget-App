{
  "nbformat": 4,
  "nbformat_minor": 0,
  "metadata": {
    "colab": {
      "name": "Budget.ipynb",
      "provenance": [],
      "collapsed_sections": [],
      "authorship_tag": "ABX9TyMLhz9P3w5MkIEHaZlda1dV",
      "include_colab_link": true
    },
    "kernelspec": {
      "name": "python3",
      "display_name": "Python 3"
    },
    "language_info": {
      "name": "python"
    }
  },
  "cells": [
    {
      "cell_type": "markdown",
      "metadata": {
        "id": "view-in-github",
        "colab_type": "text"
      },
      "source": [
        "<a href=\"https://colab.research.google.com/github/Fitzpatrique/Budget-App/blob/main/Budget.ipynb\" target=\"_parent\"><img src=\"https://colab.research.google.com/assets/colab-badge.svg\" alt=\"Open In Colab\"/></a>"
      ]
    },
    {
      "cell_type": "markdown",
      "metadata": {
        "id": "6QVaQyo8OWXG"
      },
      "source": [
        "#Import necessary libraries"
      ]
    },
    {
      "cell_type": "code",
      "metadata": {
        "id": "0F_iGSDl8x3R"
      },
      "source": [
        "import numpy as np\n",
        "import pandas as pd\n",
        "import matplotlib.pyplot as plt\n",
        "%matplotlib inline"
      ],
      "execution_count": null,
      "outputs": []
    },
    {
      "cell_type": "markdown",
      "metadata": {
        "id": "3ZO1T4oxOf7h"
      },
      "source": [
        "#Create a database to store budget values"
      ]
    },
    {
      "cell_type": "code",
      "metadata": {
        "id": "7nUf4vAG7axk"
      },
      "source": [
        "budget = [['Name','food','clothing','entertainment'],['Sunday',1200,2315,4399],['Tunde',340,8700,90],['Irene',0,0,0]]"
      ],
      "execution_count": null,
      "outputs": []
    },
    {
      "cell_type": "code",
      "metadata": {
        "id": "JzGf0kCV9Gl9"
      },
      "source": [
        "budget_df = pd.DataFrame(data = budget[1:], columns=budget[0])"
      ],
      "execution_count": null,
      "outputs": []
    },
    {
      "cell_type": "code",
      "metadata": {
        "colab": {
          "base_uri": "https://localhost:8080/",
          "height": 35
        },
        "id": "bLlNlSvT8jpl",
        "outputId": "1fb28c15-e3bf-4aa3-c5d4-beccd6df044d"
      },
      "source": [
        "'''\n",
        "budget_df[budget_df['Name'] == 'Sunday']['food']\n",
        "'''"
      ],
      "execution_count": null,
      "outputs": [
        {
          "output_type": "execute_result",
          "data": {
            "application/vnd.google.colaboratory.intrinsic+json": {
              "type": "string"
            },
            "text/plain": [
              "\"\\nbudget_df[budget_df['Name'] == 'Sunday']['food']\\n\""
            ]
          },
          "metadata": {
            "tags": []
          },
          "execution_count": 48
        }
      ]
    },
    {
      "cell_type": "code",
      "metadata": {
        "id": "F6aaR7mB_YIB"
      },
      "source": [
        "budget_df['Total'] = budget_df['food'] + budget_df['clothing'] + budget_df['entertainment']"
      ],
      "execution_count": null,
      "outputs": []
    },
    {
      "cell_type": "code",
      "metadata": {
        "colab": {
          "base_uri": "https://localhost:8080/"
        },
        "id": "f9wBplY1E50q",
        "outputId": "370fe0e2-bdeb-4fea-9c99-3a0d132942b6"
      },
      "source": [
        "print(budget_df)"
      ],
      "execution_count": null,
      "outputs": [
        {
          "output_type": "stream",
          "text": [
            "     Name  food  clothing  entertainment  Total\n",
            "0  Sunday  1200        -7           4399   5592\n",
            "1   Tunde   340      8700             90   9130\n",
            "2   Irene     0         0              0      0\n"
          ],
          "name": "stdout"
        }
      ]
    },
    {
      "cell_type": "code",
      "metadata": {
        "id": "EXL-rfNV5eEy"
      },
      "source": [
        "name = 'Sunday'"
      ],
      "execution_count": null,
      "outputs": []
    },
    {
      "cell_type": "code",
      "metadata": {
        "id": "2p0jj70sT-8v"
      },
      "source": [
        "index = budget_df[budget_df['Name'] == name].index"
      ],
      "execution_count": null,
      "outputs": []
    },
    {
      "cell_type": "markdown",
      "metadata": {
        "id": "zg8awhaGOqmH"
      },
      "source": [
        "#Set variable objects to values from the budget database"
      ]
    },
    {
      "cell_type": "code",
      "metadata": {
        "id": "NnzarAszFel7"
      },
      "source": [
        "food = int(budget_df[budget_df['Name']== name].food)\n",
        "clothing = int(budget_df[budget_df['Name']== name].clothing)\n",
        "entertainment = int(budget_df[budget_df['Name']== name].entertainment)\n",
        "total_budget = food + clothing + entertainment"
      ],
      "execution_count": null,
      "outputs": []
    },
    {
      "cell_type": "markdown",
      "metadata": {
        "id": "9m6ftFKWO1yR"
      },
      "source": [
        "#Instantiate a budget class to perform operations"
      ]
    },
    {
      "cell_type": "code",
      "metadata": {
        "id": "emLE2kHwE8Kk"
      },
      "source": [
        "class Budget:\n",
        "  def __init__(self, food, clothing, entertainment):\n",
        "    self.food = food\n",
        "    self.clothing = clothing\n",
        "    self.entertainment = entertainment\n",
        "\n",
        "  def depositFood(self, new_food):\n",
        "    food = self.food + new_food\n",
        "    return food\n",
        "\n",
        "  def depositClothing(self, new_clothing):\n",
        "    clothing = self.clothing + new_clothing\n",
        "    return clothing\n",
        "\n",
        "  def depositEntertainment(self, new_entertainment):\n",
        "    entertainment = self.entertainment + new_entertainment\n",
        "    return entertainment\n",
        "\n",
        "  def withdrawFood(self, new_food):\n",
        "    food = self.food - new_food\n",
        "    return food\n",
        "\n",
        "  def withdrawClothing(self, new_clothing):\n",
        "    clothing = self.clothing - new_clothing\n",
        "    return clothing\n",
        "\n",
        "  def withdrawEntertainment(self, new_entertainment):\n",
        "    entertainment = self.entertainment - new_entertainment\n",
        "    return entertainment\n",
        "\n",
        "  def foodClothingTransfer(self,food_amount):\n",
        "    clothing = self.clothing + food_amount\n",
        "    food = self.food - food_amount\n",
        "    return clothing, food\n",
        "\n",
        "  def entertainmentClothingTransfer(self,entertainment_amount):\n",
        "    clothing = self.clothing + entertainment_amount\n",
        "    entertainment = self.entertainment - entertainment_amount\n",
        "    return clothing, entertainment\n",
        "\n",
        "  def foodEntertainmentTransfer(self,food_amount):\n",
        "    entertainment = self.entertainment + food_amount\n",
        "    food = self.food - food_amount\n",
        "    return entertainment, food\n",
        "\n",
        "\n",
        "  def clothingEntertainmentTransfer(self,clothing_amount):\n",
        "    entertainment = self.entertainment + clothing_amount\n",
        "    clothing = self.clothing - clothing_amount\n",
        "    return entertainment, clothing\n",
        "\n",
        "  def clothingFoodTransfer(self,clothing_amount):\n",
        "    food = self.food + clothing_amount\n",
        "    clothing = self.clothing - clothing_amount\n",
        "    return food, clothing\n",
        "\n",
        "  def EntertainmentFoodTransfer(self,entertainment_amount):\n",
        "    food = self.food + entertainment_amount\n",
        "    entertainment = self.entertainment - entertainment_amount\n",
        "    return  food, entertainment"
      ],
      "execution_count": null,
      "outputs": []
    },
    {
      "cell_type": "code",
      "metadata": {
        "id": "JkMcKmgEGStI",
        "colab": {
          "base_uri": "https://localhost:8080/",
          "height": 35
        },
        "outputId": "b537f75a-ce36-4447-c933-2347bce90b7c"
      },
      "source": [
        "'''\n",
        "food = Budget(food,clothing,entertainment).depositFood(new_food=5999)\n",
        "'''"
      ],
      "execution_count": null,
      "outputs": [
        {
          "output_type": "execute_result",
          "data": {
            "application/vnd.google.colaboratory.intrinsic+json": {
              "type": "string"
            },
            "text/plain": [
              "'\\nfood = Budget(food,clothing,entertainment).depositFood(new_food=5999)\\n'"
            ]
          },
          "metadata": {
            "tags": []
          },
          "execution_count": 76
        }
      ]
    },
    {
      "cell_type": "code",
      "metadata": {
        "colab": {
          "base_uri": "https://localhost:8080/",
          "height": 35
        },
        "id": "9MV1UUYwihqd",
        "outputId": "e1836f21-c573-49aa-99a2-b3f887882070"
      },
      "source": [
        "'''\n",
        "clothing, food = Budget(food,clothing,entertainment).foodClothingTransfer(5990)\n",
        "print('Food: ', food, 'Clothing: ', clothing)\n",
        "'''"
      ],
      "execution_count": null,
      "outputs": [
        {
          "output_type": "execute_result",
          "data": {
            "application/vnd.google.colaboratory.intrinsic+json": {
              "type": "string"
            },
            "text/plain": [
              "\"\\nclothing, food = Budget(food,clothing,entertainment).foodClothingTransfer(5990)\\nprint('Food: ', food, 'Clothing: ', clothing)\\n\""
            ]
          },
          "metadata": {
            "tags": []
          },
          "execution_count": 55
        }
      ]
    },
    {
      "cell_type": "code",
      "metadata": {
        "colab": {
          "base_uri": "https://localhost:8080/",
          "height": 35
        },
        "id": "MmGuvzq2NjO3",
        "outputId": "ff3d2f69-7d0e-4600-dc17-a6d28f42fbfe"
      },
      "source": [
        "'''print('Food: ', food, ', Clothing: ', clothing , ', Entertainment: ', entertainment)'''"
      ],
      "execution_count": null,
      "outputs": [
        {
          "output_type": "execute_result",
          "data": {
            "application/vnd.google.colaboratory.intrinsic+json": {
              "type": "string"
            },
            "text/plain": [
              "\"print('Food: ', food, ', Clothing: ', clothing , ', Entertainment: ', entertainment)\""
            ]
          },
          "metadata": {
            "tags": []
          },
          "execution_count": 57
        }
      ]
    },
    {
      "cell_type": "code",
      "metadata": {
        "colab": {
          "base_uri": "https://localhost:8080/",
          "height": 35
        },
        "id": "PhWP15gxper3",
        "outputId": "112960dd-df63-414f-c6d0-73443c262ef9"
      },
      "source": [
        "'''\n",
        "total_budget = food + clothing + entertainment\n",
        "print(total_budget)\n",
        "'''"
      ],
      "execution_count": null,
      "outputs": [
        {
          "output_type": "execute_result",
          "data": {
            "application/vnd.google.colaboratory.intrinsic+json": {
              "type": "string"
            },
            "text/plain": [
              "'\\ntotal_budget = food + clothing + entertainment\\nprint(total_budget)\\n'"
            ]
          },
          "metadata": {
            "tags": []
          },
          "execution_count": 58
        }
      ]
    },
    {
      "cell_type": "markdown",
      "metadata": {
        "id": "uwR4WAFdPM_t"
      },
      "source": [
        "#Create a function to call class methods for the budget app"
      ]
    },
    {
      "cell_type": "code",
      "metadata": {
        "id": "xTOwSNXlgw4A"
      },
      "source": [
        "def Run():\n",
        "  global food\n",
        "  global clothing\n",
        "  global entertainment\n",
        "  global total_budget\n",
        "\n",
        "  while True:\n",
        "    print('1. Transfer')\n",
        "    print('2. Withdraw')\n",
        "    print('3. Deposit')\n",
        "    print('4. Check Balance')\n",
        "    print('0. Exit')\n",
        "    \n",
        "    answer = int(input('Enter Number Choice: '))\n",
        "\n",
        "    if answer == 0:\n",
        "      break\n",
        "    elif answer == 1:\n",
        "      while True:\n",
        "        print('1. Transfer from Food Category to Clothing Category')\n",
        "        print('2. Transfer from Entertainment Category to Clothing Category')\n",
        "        print('3. Transfer from Food Category to Entertainment Category')\n",
        "        print('4. Transfer from Clothing Category to Entertainment Category')\n",
        "        print('5. Transfer from Clothing Category to Food Category')\n",
        "        print('6. Transfer from Entertainment Category to Food Category')\n",
        "        print('0. Exit')\n",
        "\n",
        "        new_answer = int(input('Enter Number Choice: '))\n",
        "        amount = int(input('Enter Transfer Amount: '))\n",
        "\n",
        "        if new_answer == 0:\n",
        "          break\n",
        "        elif new_answer == 1:\n",
        "          clothing, food = Budget(food,clothing,entertainment).foodClothingTransfer(amount)\n",
        "          \n",
        "          break\n",
        "        elif new_answer == 2:\n",
        "          clothing, entertainment = Budget(food,clothing,entertainment).entertainmentClothingTransfer(amount)\n",
        "          \n",
        "          break\n",
        "        elif new_answer == 3:\n",
        "          entertainment, food = Budget(food,clothing,entertainment).foodEntertainmentTransfer(amount)\n",
        "         \n",
        "          break\n",
        "        elif new_answer == 4:\n",
        "          entertainment, clothing = Budget(food,clothing,entertainment).clothingEntertainmentTransfer(amount)\n",
        "          \n",
        "          break\n",
        "        elif new_answer == 5:\n",
        "          food, clothing = Budget(food,clothing,entertainment).clothingFoodTransfer(amount)\n",
        "         \n",
        "          break\n",
        "        elif new_answer == 6:\n",
        "          food, entertainment = Budget(food,clothing,entertainment).entertainmentFoodTransfer(amount)\n",
        "          \n",
        "          break\n",
        "        else:\n",
        "          print('Try Again Later')\n",
        "          break\n",
        "\n",
        "    elif answer == 2:\n",
        "      while True:\n",
        "        print('1. Withdraw from Food Category')\n",
        "        print('2. Withdraw from Clothing Category')\n",
        "        print('3. Withdraw from Entertainment Category')\n",
        "        print('0. Exit')\n",
        "\n",
        "        second_answer = int(input('Enter Number Choice: '))\n",
        "        second_amount = int(input('Enter Withdrawal Amount: '))\n",
        "\n",
        "        if second_answer == 0:\n",
        "          break\n",
        "        elif second_answer == 1:\n",
        "          food = Budget(food,clothing,entertainment).withdrawFood(second_amount)\n",
        "          \n",
        "          break\n",
        "        elif second_answer == 2:\n",
        "          clothing = Budget(food,clothing,entertainment).withdrawClothing(second_amount)\n",
        "          \n",
        "          break\n",
        "        elif second_answer == 3:\n",
        "          entertainment = Budget(food,clothing,entertainment).withdrawEntertainment(second_amount)\n",
        "    \n",
        "          break\n",
        "        else:\n",
        "          print('Try Again Later')\n",
        "          break\n",
        "\n",
        "    elif answer == 3:\n",
        "      while True:\n",
        "        print('1. Deposit to Food Category')\n",
        "        print('2. Deposit to Clothing Category')\n",
        "        print('3. Deposit to Entertainment Category')\n",
        "        print('0. Exit')\n",
        "\n",
        "        third_answer = int(input('Enter Number Choice: '))\n",
        "        third_amount = int(input('Enter Withdrawal Amount: '))\n",
        "\n",
        "        if third_answer == 0:\n",
        "          break\n",
        "        elif third_answer == 1:\n",
        "          food = Budget(food,clothing,entertainment).depositFood(third_amount)\n",
        "       \n",
        "          break\n",
        "        elif third_answer == 2:\n",
        "          clothing = Budget(food,clothing,entertainment).depositClothing(third_amount)\n",
        "        \n",
        "          break\n",
        "        elif third_answer == 3:\n",
        "          entertainment = Budget(food,clothing,entertainment).depositEntertainment(third_amount)\n",
        "          \n",
        "          break\n",
        "        else:\n",
        "          print('Try Again Later')\n",
        "          break\n",
        "\n",
        "    elif answer == 4:\n",
        "      total_budget = food + clothing + entertainment\n",
        "      print('Name: ', name, ', Food: ', food, ', Clothing: ', clothing , ', Entertainment: ', entertainment, 'Total Balance: ', total_budget)\n",
        "      break\n",
        "\n",
        "    else:\n",
        "      print('Try Again Later')\n",
        "      break \n",
        "\n",
        "  "
      ],
      "execution_count": null,
      "outputs": []
    },
    {
      "cell_type": "markdown",
      "metadata": {
        "id": "wqRytTJGPgyK"
      },
      "source": [
        "#Test the budget app by calling the function"
      ]
    },
    {
      "cell_type": "code",
      "metadata": {
        "colab": {
          "base_uri": "https://localhost:8080/"
        },
        "id": "abFasrrl6bPH",
        "outputId": "c1053633-2fe1-424d-8a6a-c77d9b8bb393"
      },
      "source": [
        "Run()"
      ],
      "execution_count": null,
      "outputs": [
        {
          "output_type": "stream",
          "text": [
            "1. Transfer\n",
            "2. Withdraw\n",
            "3. Deposit\n",
            "4. Check Balance\n",
            "0. Exit\n",
            "Enter Number Choice: 2\n",
            "1. Withdraw from Food Category\n",
            "2. Withdraw from Clothing Category\n",
            "3. Withdraw from Entertainment Category\n",
            "0. Exit\n",
            "Enter Number Choice: 2\n",
            "Enter Withdrawal Amount: 8000\n",
            "1. Transfer\n",
            "2. Withdraw\n",
            "3. Deposit\n",
            "4. Check Balance\n",
            "0. Exit\n",
            "Enter Number Choice: 4\n",
            "Name:  Sunday , Food:  1200 , Clothing:  -7 , Entertainment:  4399 Total Balance:  5592\n"
          ],
          "name": "stdout"
        }
      ]
    },
    {
      "cell_type": "markdown",
      "metadata": {
        "id": "WQ7bseA7PtpB"
      },
      "source": [
        "#Update the budget database by setting the values of the database to the current values of the variable objects "
      ]
    },
    {
      "cell_type": "code",
      "metadata": {
        "id": "5TmpNAsv6ekc"
      },
      "source": [
        "budget_df.loc[index, 'food'] = food\n",
        "budget_df.loc[index, 'clothing'] = clothing\n",
        "budget_df.loc[index, 'entertainment'] = entertainment\n",
        "budget_df['Total'] = budget_df['food'] + budget_df['clothing'] + budget_df['entertainment']"
      ],
      "execution_count": null,
      "outputs": []
    },
    {
      "cell_type": "markdown",
      "metadata": {
        "id": "_pM378F6P_Bl"
      },
      "source": [
        "#View the updated budget database"
      ]
    },
    {
      "cell_type": "code",
      "metadata": {
        "colab": {
          "base_uri": "https://localhost:8080/"
        },
        "id": "PXVRTD6e9C65",
        "outputId": "5cdbf766-bfdd-43f6-f0f0-3a10fd672693"
      },
      "source": [
        "print(budget_df)"
      ],
      "execution_count": null,
      "outputs": [
        {
          "output_type": "stream",
          "text": [
            "     Name  food  clothing  entertainment  Total\n",
            "0  Sunday  1200        -7           4399   5592\n",
            "1   Tunde   340      8700             90   9130\n",
            "2   Irene     0         0              0      0\n"
          ],
          "name": "stdout"
        }
      ]
    },
    {
      "cell_type": "code",
      "metadata": {
        "id": "4p5KF97cV1q2"
      },
      "source": [
        ""
      ],
      "execution_count": null,
      "outputs": []
    }
  ]
}